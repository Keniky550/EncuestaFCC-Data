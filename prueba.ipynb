{
 "cells": [
  {
   "cell_type": "code",
   "execution_count": 1,
   "metadata": {},
   "outputs": [],
   "source": [
    "from openpyxl import Workbook\n",
    "import pandas as pd\n",
    "import re\n",
    "import xlwings "
   ]
  },
  {
   "cell_type": "code",
   "execution_count": 2,
   "metadata": {},
   "outputs": [],
   "source": [
    "datos = {\n",
    "    'cod_alumno':'cod_alumno',\n",
    "    'anio_ingreso':'año_ingreso',\n",
    "    'ape_paterno':'ape_paterno',\n",
    "    'ape_materno':'ape_materno',\n",
    "    'nom_alumno':'nom_alumno',\n",
    "    'tel_alumno':'tel_alumno',\n",
    "    'coe_alumno':'correo_inst',\n",
    "    'coe_alu_personal':'correo_pers',\n",
    "    'tel_alu_movil':'movil_alumno',\n",
    "    'des_doc_identidad':'desc_documento',\n",
    "    'did_alumno':'doc_alumno',\n",
    "    'escuela':'escuela'\n",
    "}\n",
    "\n",
    "archivos =['./EGRESADOS/BASE DE DATOS AUDITORIA EGRESADOS.xlsx','./EGRESADOS/BASE DE DATOS CONTABILIDAD EGRESADOS.xlsx','./EGRESADOS/BASE DE DATOS EGRESADOS GESTIÓN PÚBLICA.xlsx']"
   ]
  },
  {
   "cell_type": "code",
   "execution_count": 3,
   "metadata": {},
   "outputs": [],
   "source": [
    "data = [pd.read_excel(archivo,sheet_name=1,usecols=datos.keys(),dtype=\"string\") for archivo in archivos]"
   ]
  },
  {
   "cell_type": "code",
   "execution_count": 4,
   "metadata": {},
   "outputs": [],
   "source": [
    "db = pd.concat(data)\n",
    "db.rename(columns=datos,inplace=True)\n",
    "db = db.drop_duplicates().reset_index(drop=True)"
   ]
  },
  {
   "cell_type": "code",
   "execution_count": 5,
   "metadata": {},
   "outputs": [
    {
     "name": "stderr",
     "output_type": "stream",
     "text": [
      "C:\\Users\\ADMIN\\AppData\\Local\\Temp\\ipykernel_12472\\698122193.py:2: SettingWithCopyWarning: \n",
      "A value is trying to be set on a copy of a slice from a DataFrame\n",
      "\n",
      "See the caveats in the documentation: https://pandas.pydata.org/pandas-docs/stable/user_guide/indexing.html#returning-a-view-versus-a-copy\n",
      "  db2.fillna('sin_registro',inplace=True)\n"
     ]
    }
   ],
   "source": [
    "db2 = db[db.doc_alumno.notnull()]\n",
    "db2.fillna('sin_registro',inplace=True)"
   ]
  },
  {
   "cell_type": "code",
   "execution_count": 6,
   "metadata": {},
   "outputs": [
    {
     "name": "stdout",
     "output_type": "stream",
     "text": [
      "6849625\n",
      "446548 \n"
     ]
    }
   ],
   "source": [
    "for val in db2.tel_alumno:\n",
    "    if len(val)==10 and re.search('^01',val):\n",
    "        val=val[3:]\n",
    "        print(val)"
   ]
  },
  {
   "cell_type": "code",
   "execution_count": 7,
   "metadata": {},
   "outputs": [],
   "source": [
    "def reemplazo_tel(val):\n",
    "    if val[3]=='-':\n",
    "        val=val[:3]+val[4:]\n",
    "    if len(val)==10 and re.search('^01',val):\n",
    "        val=val[2:]\n",
    "    if len(val)!=7 or val[0]=='0':\n",
    "        val='sin_registro'\n",
    "    if not re.search('^\\d+',val) and val!='sin_registro':\n",
    "        val='sin_registro'\n",
    "    return val\n",
    "def reemplazo_mov(val):\n",
    "    if val[5]=='-':\n",
    "        val=val[:5]+val[6:]\n",
    "    if len(val)!=9 or val[0]!= '9':\n",
    "        val='sin_registro'\n",
    "    return val\n",
    "def reemplazo_año_ingreso(val):\n",
    "    if len(val)!=4:\n",
    "        val='sin_registro'\n",
    "    return val\n",
    "def reemplazo_periodo_egreso(val):\n",
    "    if val!='sin_registro' and val[4]!='-':\n",
    "        val=val[:4]+'-'+val[-1]\n",
    "    return val\n",
    "def correct_doc_alumno(val):\n",
    "    if len(val)!=8 and len(val)!=10:\n",
    "        val=\"sin_registro\"\n",
    "    if len(val)==10 and val[8]=='.':\n",
    "        val=val[:8]\n",
    "    return val"
   ]
  },
  {
   "cell_type": "code",
   "execution_count": 10,
   "metadata": {},
   "outputs": [
    {
     "data": {
      "text/plain": [
       "cod_alumno        0\n",
       "año_ingreso       0\n",
       "ape_paterno       0\n",
       "ape_materno       0\n",
       "nom_alumno        0\n",
       "tel_alumno        0\n",
       "correo_inst       0\n",
       "doc_alumno        0\n",
       "correo_pers       0\n",
       "movil_alumno      0\n",
       "desc_documento    0\n",
       "escuela           0\n",
       "dtype: int64"
      ]
     },
     "execution_count": 10,
     "metadata": {},
     "output_type": "execute_result"
    }
   ],
   "source": []
  }
 ],
 "metadata": {
  "kernelspec": {
   "display_name": "Python 3",
   "language": "python",
   "name": "python3"
  },
  "language_info": {
   "codemirror_mode": {
    "name": "ipython",
    "version": 3
   },
   "file_extension": ".py",
   "mimetype": "text/x-python",
   "name": "python",
   "nbconvert_exporter": "python",
   "pygments_lexer": "ipython3",
   "version": "3.11.3"
  },
  "orig_nbformat": 4
 },
 "nbformat": 4,
 "nbformat_minor": 2
}
