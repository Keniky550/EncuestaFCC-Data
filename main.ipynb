{
 "cells": [
  {
   "cell_type": "code",
   "execution_count": 12,
   "metadata": {},
   "outputs": [],
   "source": [
    "from openpyxl import Workbook\n",
    "import pandas as pd\n",
    "import re\n",
    "import xlwings "
   ]
  },
  {
   "cell_type": "code",
   "execution_count": 13,
   "metadata": {},
   "outputs": [],
   "source": [
    "dat = {\n",
    "    'cod_alumno':'cod',\n",
    "    'des_doc_identidad':'doc_type',\n",
    "    'did_alumno':'doc_num',\n",
    "    'ape_paterno':'paternal_name',\n",
    "    'ape_materno':'maternal_name',\n",
    "    'nom_alumno':'name',\n",
    "    'tel_alu_movil':'cel_num',\n",
    "    'tel_alumno':'phone_num',\n",
    "    'coe_alumno':'inst_email',\n",
    "    'coe_alu_personal':'per_email',\n",
    "    'anio_ingreso':'in_year',\n",
    "    'periodo_egreso':'grad_per',\n",
    "    'escuela':'school'\n",
    "}\n",
    "col = list(dat.values())\n",
    "archivos =['./EGRESADOS/BASE DE DATOS AUDITORIA EGRESADOS.xlsx','./EGRESADOS/BASE DE DATOS CONTABILIDAD EGRESADOS.xlsx','./EGRESADOS/BASE DE DATOS EGRESADOS GESTIÓN PÚBLICA.xlsx']"
   ]
  },
  {
   "cell_type": "code",
   "execution_count": 14,
   "metadata": {},
   "outputs": [],
   "source": [
    "data = [pd.read_excel(archivo,sheet_name=1,usecols=dat.keys(),dtype=\"string\") for archivo in archivos]"
   ]
  },
  {
   "cell_type": "code",
   "execution_count": 15,
   "metadata": {},
   "outputs": [],
   "source": [
    "def document(val):\n",
    "    if len(val)!=8 and len(val)!=10:\n",
    "        val = None\n",
    "    return val"
   ]
  },
  {
   "cell_type": "code",
   "execution_count": 16,
   "metadata": {},
   "outputs": [],
   "source": [
    "db = pd.concat(data).rename(columns=dat).drop_duplicates().reset_index(drop=True)\n",
    "db = db[db.doc_num.notnull()]\n",
    "db.doc_num = db.doc_num.apply(document)\n",
    "db = db[db.doc_num.notnull()]\n",
    "db.fillna('sin_registro',inplace=True)"
   ]
  },
  {
   "cell_type": "code",
   "execution_count": 17,
   "metadata": {},
   "outputs": [],
   "source": [
    "for val in db.doc_num:\n",
    "    if len(val)==9:\n",
    "        print(val)"
   ]
  },
  {
   "cell_type": "code",
   "execution_count": 18,
   "metadata": {},
   "outputs": [],
   "source": [
    "def phone(val):\n",
    "    if len(val)<7:\n",
    "        val = 'sin_registro'\n",
    "    if val[3]=='-':\n",
    "        val=val[:3]+val[4:]\n",
    "    if re.search('^0',val):\n",
    "        val=val[2:]\n",
    "    if not re.search('^\\d+',val) or re.search('^0',val):\n",
    "        val='sin_registro'\n",
    "    if len(val)!=7 and val != 'sin_registro':\n",
    "        val = 'sin_registro'\n",
    "    return val\n",
    "\n",
    "def movil(val):\n",
    "    if len(val)<9:\n",
    "        val = 'sin_registro'\n",
    "    if val[5]=='-':\n",
    "        val = val[0:5]+val[6:]\n",
    "    if not re.search('^\\d+',val):\n",
    "        val = 'sin registro'\n",
    "    if len(val)>9 and re.search('^51',val):\n",
    "        val = val[2:]\n",
    "    if len(val)>9:\n",
    "        val = val[0:9]\n",
    "    if not re.search('^9',val):\n",
    "        val ='sin registro'\n",
    "    if len(val)!=9:\n",
    "        val = 'sin_registro'\n",
    "    return val\n",
    "    \n",
    "\n",
    "def income(val):\n",
    "    if len(val)!=4:\n",
    "        val = 'sin_registro'\n",
    "    return val\n",
    "\n",
    "def graduated(val):\n",
    "    if not re.search('^\\d+',val) or re.search('^0',val):\n",
    "        val = 'sin_registro'\n",
    "    if val!='sin_registro' and val[4]!='-':\n",
    "        val = val[:4] + '-' + val[4]\n",
    "    return val"
   ]
  },
  {
   "cell_type": "code",
   "execution_count": 19,
   "metadata": {},
   "outputs": [],
   "source": [
    "db.phone_num=db.phone_num.apply(phone)\n",
    "db.cel_num=db.cel_num.apply(movil)\n",
    "db.in_year=db.in_year.apply(income)\n",
    "db.grad_per=db.grad_per.apply(graduated)"
   ]
  },
  {
   "cell_type": "code",
   "execution_count": 20,
   "metadata": {},
   "outputs": [],
   "source": [
    "db = db[col]\n",
    "db.columns = db.columns.str.upper()\n",
    "db = db.style.set_table_styles([{'selector': 'th', 'props': [('text-align', 'center')]}]).set_properties(**{'text-align': 'center'})\n",
    "db.to_excel('EGRESA2.xlsx', sheet_name = 'EGRESADOS', index=False)\n",
    "with xlwings.App(visible=True) as app:\n",
    "    wb = xlwings.Book('EGRESA2.xlsx')\n",
    "    for sheet in range(len(wb.sheets)):\n",
    "        ws = wb.sheets[sheet]\n",
    "        ws.autofit()\n",
    "    wb.save()\n",
    "    wb.close()"
   ]
  },
  {
   "cell_type": "code",
   "execution_count": 21,
   "metadata": {},
   "outputs": [],
   "source": [
    "unchange = ['COD','DOC_TYPE','DOC_NUM','PATERNAL_NAME','MATERNAL_NAME','NAME','SCHOOL']\n",
    "change = ['PHONE_NUM','CEL_NUM','INST_EMAIL','PER_EMAIL','IN_YEAR','GRAD_PER']"
   ]
  },
  {
   "cell_type": "code",
   "execution_count": 22,
   "metadata": {},
   "outputs": [],
   "source": [
    "student = pd.read_excel('./EGRESA2.xlsx',usecols=unchange,dtype='string')\n",
    "temporal = pd.read_excel('./EGRESA2.xlsx',usecols=change,dtype='string')"
   ]
  },
  {
   "cell_type": "code",
   "execution_count": null,
   "metadata": {},
   "outputs": [],
   "source": []
  },
  {
   "cell_type": "code",
   "execution_count": 23,
   "metadata": {},
   "outputs": [],
   "source": [
    "student = student.style.set_table_styles([{'selector': 'th', 'props': [('text-align', 'center')]}]).set_properties(**{'text-align': 'center'})\n",
    "student.to_excel('STUDENT.xlsx', sheet_name = 'STUDENT', index=False)\n",
    "with xlwings.App(visible=True) as app:\n",
    "    wb = xlwings.Book('STUDENT.xlsx')\n",
    "    for sheet in range(len(wb.sheets)):\n",
    "        ws = wb.sheets[sheet]\n",
    "        ws.autofit()\n",
    "    wb.save()\n",
    "    wb.close()"
   ]
  },
  {
   "cell_type": "code",
   "execution_count": 24,
   "metadata": {},
   "outputs": [],
   "source": [
    "temporal = temporal.style.set_table_styles([{'selector': 'th', 'props': [('text-align', 'center')]}]).set_properties(**{'text-align': 'center'})\n",
    "temporal.to_excel('TEMPORAL.xlsx', sheet_name = 'TEMPORAL', index=False)\n",
    "with xlwings.App(visible=True) as app:\n",
    "    wb = xlwings.Book('TEMPORAL.xlsx')\n",
    "    for sheet in range(len(wb.sheets)):\n",
    "        ws = wb.sheets[sheet]\n",
    "        ws.autofit()\n",
    "    wb.save()\n",
    "    wb.close()"
   ]
  }
 ],
 "metadata": {
  "kernelspec": {
   "display_name": "Python 3",
   "language": "python",
   "name": "python3"
  },
  "language_info": {
   "codemirror_mode": {
    "name": "ipython",
    "version": 3
   },
   "file_extension": ".py",
   "mimetype": "text/x-python",
   "name": "python",
   "nbconvert_exporter": "python",
   "pygments_lexer": "ipython3",
   "version": "3.11.4"
  },
  "orig_nbformat": 4
 },
 "nbformat": 4,
 "nbformat_minor": 2
}
