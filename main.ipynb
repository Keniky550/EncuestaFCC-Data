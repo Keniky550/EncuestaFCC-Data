{
 "cells": [
  {
   "cell_type": "code",
   "execution_count": 21,
   "metadata": {},
   "outputs": [],
   "source": [
    "from openpyxl import Workbook\n",
    "import pandas as pd\n",
    "import re\n",
    "import xlwings "
   ]
  },
  {
   "cell_type": "code",
   "execution_count": 22,
   "metadata": {},
   "outputs": [],
   "source": [
    "dat = {\n",
    "    'cod_alumno':'cod',\n",
    "    'des_doc_identidad':'doc_type',\n",
    "    'did_alumno':'doc_num',\n",
    "    'ape_paterno':'paternal_name',\n",
    "    'ape_materno':'maternal_name',\n",
    "    'nom_alumno':'name',\n",
    "    'tel_alu_movil':'cel_num',\n",
    "    'tel_alumno':'phone_num',\n",
    "    'coe_alumno':'inst_email',\n",
    "    'coe_alu_personal':'per_email',\n",
    "    'anio_ingreso':'in_year',\n",
    "    'periodo_egreso':'grad_per',\n",
    "    'escuela':'school'\n",
    "}\n",
    "col = list(dat.values())\n",
    "archivos =['./EGRESADOS/BASE DE DATOS AUDITORIA EGRESADOS.xlsx','./EGRESADOS/BASE DE DATOS CONTABILIDAD EGRESADOS.xlsx','./EGRESADOS/BASE DE DATOS EGRESADOS GESTIÓN PÚBLICA.xlsx']\n",
    "dic_school={'auditoría':'1','contabilidad':'2','gestión pública':'3'}\n",
    "dic_doctype={'Doc. Nacional de Identidad':'1','Pasaporte':'2','Partida Nacimiento':'3','Otro':'4','Libreta Militar':'5','Boleta Militar':'5','Carnet de Extranjeria':'6','Carnet Identidad':'7'}"
   ]
  },
  {
   "cell_type": "code",
   "execution_count": 23,
   "metadata": {},
   "outputs": [],
   "source": [
    "data = [pd.read_excel(archivo,sheet_name=1,usecols=dat.keys(),dtype=\"string\") for archivo in archivos]"
   ]
  },
  {
   "cell_type": "code",
   "execution_count": 24,
   "metadata": {},
   "outputs": [],
   "source": [
    "def document(val):\n",
    "    if len(val)!=8 and len(val)!=10:\n",
    "        val = None\n",
    "    return val"
   ]
  },
  {
   "cell_type": "code",
   "execution_count": 25,
   "metadata": {},
   "outputs": [],
   "source": [
    "db = pd.concat(data).rename(columns=dat).drop_duplicates().reset_index(drop=True)\n",
    "db = db[db.doc_num.notnull()]\n",
    "db.doc_num = db.doc_num.apply(document)\n",
    "db = db[db.doc_num.notnull()]\n",
    "db.fillna('sin_registro',inplace=True)"
   ]
  },
  {
   "cell_type": "code",
   "execution_count": 26,
   "metadata": {},
   "outputs": [],
   "source": [
    "db = db.drop(index= [10817,1212,1388,11236,11271,6145,1212],axis=0)\n",
    "db = db.reset_index(drop=True)"
   ]
  },
  {
   "cell_type": "code",
   "execution_count": 27,
   "metadata": {},
   "outputs": [],
   "source": [
    "for val in db.doc_num:\n",
    "    if len(val)==9:\n",
    "        print(val)"
   ]
  },
  {
   "cell_type": "code",
   "execution_count": 28,
   "metadata": {},
   "outputs": [],
   "source": [
    "def phone(val):\n",
    "    if len(val)<7:\n",
    "        val = 'sin_registro'\n",
    "    if val[3]=='-' or val[3]==' ':\n",
    "        val=val[:3]+val[4:]\n",
    "    if re.search('^0',val):\n",
    "        val=val[2:]\n",
    "    if not re.search('^\\d+',val) or re.search('^0',val):\n",
    "        val='sin_registro'\n",
    "    if len(val)!=7 and val != 'sin_registro':\n",
    "        val = 'sin_registro'\n",
    "    return val\n",
    "\n",
    "def movil(val):\n",
    "    if len(val)<9:\n",
    "        val = 'sin_registro'\n",
    "    if val[3]=='-':\n",
    "        val=val[:3]+val[4:]\n",
    "    if val[3]==' ' and val[7]==' ':\n",
    "        val=val[:3]+val[4:7]+val[8:]\n",
    "    if val[5]=='-' or val[5]==' ':\n",
    "        val = val[0:5]+val[6:]\n",
    "    if not re.search('^\\d+',val):\n",
    "        val = 'sin registro'\n",
    "    if len(val)>9 and re.search('^51',val):\n",
    "        val = val[2:]\n",
    "    if len(val)>9:\n",
    "        val = val[0:9]\n",
    "    if not re.search('^9',val):\n",
    "        val ='sin registro'\n",
    "    if len(val)!=9:\n",
    "        val = 'sin_registro'\n",
    "    return val\n",
    "    \n",
    "def income(val):\n",
    "    if len(val)!=4:\n",
    "        val = 'sin_registro'\n",
    "    return val\n",
    "\n",
    "def graduated(val):\n",
    "    if not re.search('^\\d+',val) or re.search('^0',val):\n",
    "        val = 'sin_registro'\n",
    "    if val!='sin_registro' and val[4]!='-':\n",
    "        val = val[:4] + '-' + val[4]\n",
    "    return val"
   ]
  },
  {
   "cell_type": "code",
   "execution_count": 29,
   "metadata": {},
   "outputs": [],
   "source": [
    "db.phone_num=db.phone_num.apply(phone)\n",
    "db.cel_num=db.cel_num.apply(movil)\n",
    "db.in_year=db.in_year.apply(income)\n",
    "db.grad_per=db.grad_per.apply(graduated)"
   ]
  },
  {
   "cell_type": "code",
   "execution_count": 30,
   "metadata": {},
   "outputs": [],
   "source": [
    "db = db[col]\n",
    "db.columns = db.columns.str.upper()\n",
    "db = db.style.set_table_styles([{'selector': 'th', 'props': [('text-align', 'center')]}]).set_properties(**{'text-align': 'center'})\n",
    "db.to_excel('EGRESA2.xlsx', sheet_name = 'EGRESADOS', index=False)"
   ]
  },
  {
   "cell_type": "code",
   "execution_count": 31,
   "metadata": {},
   "outputs": [],
   "source": [
    "stu = ['COD','PATERNAL_NAME','MATERNAL_NAME','NAME','DOC_NUM','DOC_TYPE','SCHOOL']\n",
    "tempo = ['PHONE_NUM','CEL_NUM','INST_EMAIL','PER_EMAIL','IN_YEAR','GRAD_PER']\n",
    "doc = ['DOC_TYPE']\n",
    "sch = ['SCHOOL']"
   ]
  },
  {
   "cell_type": "code",
   "execution_count": 32,
   "metadata": {},
   "outputs": [],
   "source": [
    "student = pd.read_excel('./EGRESA2.xlsx',usecols=stu,dtype='string')\n",
    "temporal = pd.read_excel('./EGRESA2.xlsx',usecols=tempo,dtype='string')\n",
    "doc_type = pd.read_excel('./EGRESA2.xlsx',usecols=doc,dtype='string')\n",
    "school = pd.read_excel('./EGRESA2.xlsx',usecols=sch,dtype='string')"
   ]
  },
  {
   "cell_type": "code",
   "execution_count": 33,
   "metadata": {},
   "outputs": [],
   "source": [
    "school = school.drop_duplicates().reset_index(drop=True)\n",
    "doc_type = doc_type.drop_duplicates().reset_index(drop=True)"
   ]
  },
  {
   "cell_type": "code",
   "execution_count": 34,
   "metadata": {},
   "outputs": [],
   "source": [
    "temporal['CEL_NUM']= temporal['CEL_NUM'].replace('sin_registro',value='0')\n",
    "temporal['PHONE_NUM']= temporal['PHONE_NUM'].replace('sin_registro',value='0')"
   ]
  },
  {
   "cell_type": "code",
   "execution_count": 35,
   "metadata": {},
   "outputs": [],
   "source": [
    "temporal = temporal.replace(\"sin_registro\", value=None)\n",
    "doc_type = doc_type.replace(\"sin_registro\", value=None)\n",
    "student = student.replace({'DOC_TYPE': dic_doctype})\n",
    "student = student.replace({'SCHOOL':dic_school})\n",
    "student = student.replace(\"sin_registro\", value='-')\n",
    "school = school.replace(\"sin_registro\", value=None)"
   ]
  },
  {
   "cell_type": "code",
   "execution_count": 36,
   "metadata": {},
   "outputs": [],
   "source": [
    "temporal = temporal.astype({ 'CEL_NUM': 'int32','PHONE_NUM': 'int32'})\n",
    "student = student.astype({'DOC_TYPE':'int32','SCHOOL':'int32'})"
   ]
  },
  {
   "cell_type": "code",
   "execution_count": 37,
   "metadata": {},
   "outputs": [],
   "source": [
    "school.to_csv('C:/xampp/htdocs/EncuestaFCC/datos/SCHOOL.csv',header=False, encoding='utf-8',index=False)             \n",
    "doc_type.to_csv('C:/xampp/htdocs/EncuestaFCC/datos/DOC_TYPE.csv',header=False, encoding='utf-8',index=False)\n",
    "student.to_csv('C:/xampp/htdocs/EncuestaFCC/datos/STUDENT.csv',header=False, encoding='utf-8', index=False)\n",
    "temporal.to_csv('C:/xampp/htdocs/EncuestaFCC/datos/TEMPORAL.csv',header=False, encoding='utf-8', index=False)"
   ]
  },
  {
   "cell_type": "markdown",
   "metadata": {},
   "source": [
    "with xlwings.App(visible=True) as app:\n",
    "    wb = xlwings.Book('EGRESA2.xlsx')\n",
    "    for sheet in range(len(wb.sheets)):\n",
    "        ws = wb.sheets[sheet]\n",
    "        ws.autofit()\n",
    "    wb.save()\n",
    "    wb.close()\n",
    "with xlwings.App(visible=True) as app:\n",
    "    wb = xlwings.Book('STUDENT.xlsx')\n",
    "    for sheet in range(len(wb.sheets)):\n",
    "        ws = wb.sheets[sheet]\n",
    "        ws.autofit()\n",
    "    wb.save()\n",
    "    wb.close()\n",
    "with xlwings.App(visible=True) as app:\n",
    "    wb = xlwings.Book('TEMPORAL.xlsx')\n",
    "    for sheet in range(len(wb.sheets)):\n",
    "        ws = wb.sheets[sheet]\n",
    "        ws.autofit()\n",
    "    wb.save()\n",
    "    wb.close()"
   ]
  },
  {
   "cell_type": "code",
   "execution_count": 45,
   "metadata": {},
   "outputs": [
    {
     "data": {
      "text/html": [
       "<div>\n",
       "<style scoped>\n",
       "    .dataframe tbody tr th:only-of-type {\n",
       "        vertical-align: middle;\n",
       "    }\n",
       "\n",
       "    .dataframe tbody tr th {\n",
       "        vertical-align: top;\n",
       "    }\n",
       "\n",
       "    .dataframe thead th {\n",
       "        text-align: right;\n",
       "    }\n",
       "</style>\n",
       "<table border=\"1\" class=\"dataframe\">\n",
       "  <thead>\n",
       "    <tr style=\"text-align: right;\">\n",
       "      <th></th>\n",
       "      <th>COD</th>\n",
       "      <th>DOC_TYPE</th>\n",
       "      <th>DOC_NUM</th>\n",
       "      <th>PATERNAL_NAME</th>\n",
       "      <th>MATERNAL_NAME</th>\n",
       "      <th>NAME</th>\n",
       "      <th>SCHOOL</th>\n",
       "    </tr>\n",
       "  </thead>\n",
       "  <tbody>\n",
       "    <tr>\n",
       "      <th>1307</th>\n",
       "      <td>17110516</td>\n",
       "      <td>1</td>\n",
       "      <td>77489392</td>\n",
       "      <td>CHAVEZ</td>\n",
       "      <td>CORNEJO</td>\n",
       "      <td>DERLY ANTONIO</td>\n",
       "      <td>1</td>\n",
       "    </tr>\n",
       "    <tr>\n",
       "      <th>2636</th>\n",
       "      <td>20110335</td>\n",
       "      <td>1</td>\n",
       "      <td>74178479</td>\n",
       "      <td>DIAZ</td>\n",
       "      <td>HUARI</td>\n",
       "      <td>STACY JAZMIN</td>\n",
       "      <td>2</td>\n",
       "    </tr>\n",
       "    <tr>\n",
       "      <th>3692</th>\n",
       "      <td>18110387</td>\n",
       "      <td>1</td>\n",
       "      <td>72084843</td>\n",
       "      <td>CHAPOÑAN</td>\n",
       "      <td>SANDOVAL</td>\n",
       "      <td>ROBERTSON ALBERTO</td>\n",
       "      <td>2</td>\n",
       "    </tr>\n",
       "    <tr>\n",
       "      <th>4175</th>\n",
       "      <td>16110152</td>\n",
       "      <td>1</td>\n",
       "      <td>70779113</td>\n",
       "      <td>YATACO</td>\n",
       "      <td>ZUTA</td>\n",
       "      <td>JESÚS MIGUEL ANGEL</td>\n",
       "      <td>2</td>\n",
       "    </tr>\n",
       "    <tr>\n",
       "      <th>6565</th>\n",
       "      <td>04110030</td>\n",
       "      <td>1</td>\n",
       "      <td>42281245</td>\n",
       "      <td>VILCA</td>\n",
       "      <td>AGUIRRE</td>\n",
       "      <td>FAUSTO JOSE</td>\n",
       "      <td>2</td>\n",
       "    </tr>\n",
       "    <tr>\n",
       "      <th>9296</th>\n",
       "      <td>992473</td>\n",
       "      <td>1</td>\n",
       "      <td>06805903</td>\n",
       "      <td>QUECCAÑO</td>\n",
       "      <td>CHOQQUE</td>\n",
       "      <td>CRISTINA</td>\n",
       "      <td>2</td>\n",
       "    </tr>\n",
       "    <tr>\n",
       "      <th>9361</th>\n",
       "      <td>997591</td>\n",
       "      <td>1</td>\n",
       "      <td>09917834</td>\n",
       "      <td>CARTOLIN</td>\n",
       "      <td>FERNANDEZ</td>\n",
       "      <td>OSCAR ALEXANDER</td>\n",
       "      <td>2</td>\n",
       "    </tr>\n",
       "    <tr>\n",
       "      <th>11004</th>\n",
       "      <td>12110264</td>\n",
       "      <td>1</td>\n",
       "      <td>47463049</td>\n",
       "      <td>AGUILAR</td>\n",
       "      <td>CUEVA</td>\n",
       "      <td>ERICK ERNESTO</td>\n",
       "      <td>3</td>\n",
       "    </tr>\n",
       "    <tr>\n",
       "      <th>11018</th>\n",
       "      <td>14110085</td>\n",
       "      <td>1</td>\n",
       "      <td>72098895</td>\n",
       "      <td>LÓPEZ</td>\n",
       "      <td>GUTIÉRREZ</td>\n",
       "      <td>CARLOS DANIEL</td>\n",
       "      <td>3</td>\n",
       "    </tr>\n",
       "  </tbody>\n",
       "</table>\n",
       "</div>"
      ],
      "text/plain": [
       "            COD  DOC_TYPE   DOC_NUM PATERNAL_NAME MATERNAL_NAME  \\\n",
       "1307   17110516         1  77489392        CHAVEZ       CORNEJO   \n",
       "2636   20110335         1  74178479          DIAZ         HUARI   \n",
       "3692   18110387         1  72084843      CHAPOÑAN      SANDOVAL   \n",
       "4175   16110152         1  70779113        YATACO          ZUTA   \n",
       "6565   04110030         1  42281245         VILCA       AGUIRRE   \n",
       "9296   992473           1  06805903      QUECCAÑO       CHOQQUE   \n",
       "9361   997591           1  09917834      CARTOLIN     FERNANDEZ   \n",
       "11004  12110264         1  47463049       AGUILAR         CUEVA   \n",
       "11018  14110085         1  72098895         LÓPEZ     GUTIÉRREZ   \n",
       "\n",
       "                     NAME  SCHOOL  \n",
       "1307        DERLY ANTONIO       1  \n",
       "2636         STACY JAZMIN       2  \n",
       "3692    ROBERTSON ALBERTO       2  \n",
       "4175   JESÚS MIGUEL ANGEL       2  \n",
       "6565          FAUSTO JOSE       2  \n",
       "9296             CRISTINA       2  \n",
       "9361      OSCAR ALEXANDER       2  \n",
       "11004       ERICK ERNESTO       3  \n",
       "11018       CARLOS DANIEL       3  "
      ]
     },
     "execution_count": 45,
     "metadata": {},
     "output_type": "execute_result"
    }
   ],
   "source": [
    "student[student.DOC_NUM.duplicated() == True]"
   ]
  }
 ],
 "metadata": {
  "kernelspec": {
   "display_name": "Python 3",
   "language": "python",
   "name": "python3"
  },
  "language_info": {
   "codemirror_mode": {
    "name": "ipython",
    "version": 3
   },
   "file_extension": ".py",
   "mimetype": "text/x-python",
   "name": "python",
   "nbconvert_exporter": "python",
   "pygments_lexer": "ipython3",
   "version": "3.11.4"
  },
  "orig_nbformat": 4
 },
 "nbformat": 4,
 "nbformat_minor": 2
}
