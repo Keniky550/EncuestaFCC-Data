{
 "cells": [
  {
   "cell_type": "code",
   "execution_count": 1,
   "metadata": {},
   "outputs": [],
   "source": [
    "from openpyxl import Workbook\n",
    "import pandas as pd\n",
    "import re\n",
    "import xlwings "
   ]
  },
  {
   "cell_type": "code",
   "execution_count": 2,
   "metadata": {},
   "outputs": [],
   "source": [
    "dat = {\n",
    "    'cod_alumno':'cod',\n",
    "    'des_doc_identidad':'doc_type',\n",
    "    'did_alumno':'doc_num',\n",
    "    'ape_paterno':'paternal_name',\n",
    "    'ape_materno':'maternal_name',\n",
    "    'nom_alumno':'name',\n",
    "    'tel_alu_movil':'cel_num',\n",
    "    'tel_alumno':'phone_num',\n",
    "    'coe_alumno':'inst_email',\n",
    "    'coe_alu_personal':'per_email',\n",
    "    'anio_ingreso':'in_year',\n",
    "    'periodo_egreso':'grad_per',\n",
    "    'escuela':'school'\n",
    "}\n",
    "col = list(dat.values())\n",
    "archivos =['./EGRESADOS/BASE DE DATOS AUDITORIA EGRESADOS.xlsx','./EGRESADOS/BASE DE DATOS CONTABILIDAD EGRESADOS.xlsx','./EGRESADOS/BASE DE DATOS EGRESADOS GESTIÓN PÚBLICA.xlsx']"
   ]
  },
  {
   "cell_type": "code",
   "execution_count": 3,
   "metadata": {},
   "outputs": [],
   "source": [
    "data = [pd.read_excel(archivo,sheet_name=1,usecols=dat.keys(),dtype=\"string\") for archivo in archivos]"
   ]
  },
  {
   "cell_type": "code",
   "execution_count": 4,
   "metadata": {},
   "outputs": [],
   "source": [
    "def document(val):\n",
    "    if len(val)!=8 and len(val)!=10:\n",
    "        val = None\n",
    "    return val"
   ]
  },
  {
   "cell_type": "code",
   "execution_count": 5,
   "metadata": {},
   "outputs": [],
   "source": [
    "db = pd.concat(data).rename(columns=dat).drop_duplicates().reset_index(drop=True)\n",
    "db = db[db.doc_num.notnull()]\n",
    "db.doc_num = db.doc_num.apply(document)\n",
    "db = db[db.doc_num.notnull()]\n",
    "db.fillna('sin_registro',inplace=True)"
   ]
  },
  {
   "cell_type": "code",
   "execution_count": 6,
   "metadata": {},
   "outputs": [],
   "source": [
    "for val in db.doc_num:\n",
    "    if len(val)==9:\n",
    "        print(val)"
   ]
  },
  {
   "cell_type": "code",
   "execution_count": 7,
   "metadata": {},
   "outputs": [],
   "source": [
    "def phone(val):\n",
    "    if len(val)<7:\n",
    "        val = 'sin_registro'\n",
    "    if val[3]=='-' or val[3]==' ':\n",
    "        val=val[:3]+val[4:]\n",
    "    if re.search('^0',val):\n",
    "        val=val[2:]\n",
    "    if not re.search('^\\d+',val) or re.search('^0',val):\n",
    "        val='sin_registro'\n",
    "    if len(val)!=7 and val != 'sin_registro':\n",
    "        val = 'sin_registro'\n",
    "    return val\n",
    "\n",
    "def movil(val):\n",
    "    if len(val)<9:\n",
    "        val = 'sin_registro'\n",
    "    if val[3]=='-':\n",
    "        val=val[:3]+val[4:]\n",
    "    if val[3]==' ' and val[7]==' ':\n",
    "        val=val[:3]+val[4:7]+val[8:]\n",
    "    if val[5]=='-' or val[5]==' ':\n",
    "        val = val[0:5]+val[6:]\n",
    "    if not re.search('^\\d+',val):\n",
    "        val = 'sin registro'\n",
    "    if len(val)>9 and re.search('^51',val):\n",
    "        val = val[2:]\n",
    "    if len(val)>9:\n",
    "        val = val[0:9]\n",
    "    if not re.search('^9',val):\n",
    "        val ='sin registro'\n",
    "    if len(val)!=9:\n",
    "        val = 'sin_registro'\n",
    "    return val\n",
    "    \n",
    "def income(val):\n",
    "    if len(val)!=4:\n",
    "        val = 'sin_registro'\n",
    "    return val\n",
    "\n",
    "def graduated(val):\n",
    "    if not re.search('^\\d+',val) or re.search('^0',val):\n",
    "        val = 'sin_registro'\n",
    "    if val!='sin_registro' and val[4]!='-':\n",
    "        val = val[:4] + '-' + val[4]\n",
    "    return val"
   ]
  },
  {
   "cell_type": "code",
   "execution_count": 8,
   "metadata": {},
   "outputs": [],
   "source": [
    "db.phone_num=db.phone_num.apply(phone)\n",
    "db.cel_num=db.cel_num.apply(movil)\n",
    "db.in_year=db.in_year.apply(income)\n",
    "db.grad_per=db.grad_per.apply(graduated)"
   ]
  },
  {
   "cell_type": "code",
   "execution_count": 9,
   "metadata": {},
   "outputs": [],
   "source": [
    "db = db[col]\n",
    "db.columns = db.columns.str.upper()\n",
    "db = db.style.set_table_styles([{'selector': 'th', 'props': [('text-align', 'center')]}]).set_properties(**{'text-align': 'center'})\n",
    "db.to_excel('EGRESA2.xlsx', sheet_name = 'EGRESADOS', index=False)"
   ]
  },
  {
   "cell_type": "code",
   "execution_count": 10,
   "metadata": {},
   "outputs": [],
   "source": [
    "unchange = ['COD','DOC_TYPE','DOC_NUM','PATERNAL_NAME','MATERNAL_NAME','NAME','SCHOOL']\n",
    "change = ['PHONE_NUM','CEL_NUM','INST_EMAIL','PER_EMAIL','IN_YEAR','GRAD_PER']"
   ]
  },
  {
   "cell_type": "code",
   "execution_count": 11,
   "metadata": {},
   "outputs": [],
   "source": [
    "student = pd.read_excel('./EGRESA2.xlsx',usecols=unchange,dtype='string')\n",
    "temporal = pd.read_excel('./EGRESA2.xlsx',usecols=change,dtype='string')"
   ]
  },
  {
   "cell_type": "code",
   "execution_count": 12,
   "metadata": {},
   "outputs": [],
   "source": [
    "temporal['CEL_NUM']= temporal['CEL_NUM'].replace('sin_registro',value='0')\n",
    "temporal['PHONE_NUM']= temporal['PHONE_NUM'].replace('sin_registro',value='0')\n",
    "temporal = temporal.astype({ 'CEL_NUM': 'int32','PHONE_NUM': 'int32'})"
   ]
  },
  {
   "cell_type": "code",
   "execution_count": 13,
   "metadata": {},
   "outputs": [
    {
     "ename": "SyntaxError",
     "evalue": "invalid syntax. Perhaps you forgot a comma? (1071657278.py, line 2)",
     "output_type": "error",
     "traceback": [
      "\u001b[1;36m  Cell \u001b[1;32mIn[13], line 2\u001b[1;36m\u001b[0m\n\u001b[1;33m    student.to_csv('STUDENT.csv',header=False, encoding='utf-8' index=False)\u001b[0m\n\u001b[1;37m                                                        ^\u001b[0m\n\u001b[1;31mSyntaxError\u001b[0m\u001b[1;31m:\u001b[0m invalid syntax. Perhaps you forgot a comma?\n"
     ]
    }
   ],
   "source": [
    "student = student.iloc[1:]\n",
    "student.to_csv('STUDENT.csv',header=False, encoding='utf-8' index=False)\n",
    "temporal = temporal.iloc[1:]\n",
    "temporal.to_csv('TEMPORAL.csv',header=False, encoding='utf-8' index=False)"
   ]
  },
  {
   "cell_type": "code",
   "execution_count": null,
   "metadata": {},
   "outputs": [],
   "source": [
    "student = student.style.set_table_styles([{'selector': 'th', 'props': [('text-align', 'center')]}]).set_properties(**{'text-align': 'center'})\n",
    "student.to_excel('STUDENT.xlsx', sheet_name = 'STUDENT', index=False)\n",
    "temporal = temporal.style.set_table_styles([{'selector': 'th', 'props': [('text-align', 'center')]}]).set_properties(**{'text-align': 'center'})\n",
    "temporal.to_excel('TEMPORAL.xlsx', sheet_name = 'TEMPORAL', index=False)\n"
   ]
  },
  {
   "cell_type": "code",
   "execution_count": null,
   "metadata": {},
   "outputs": [],
   "source": [
    "with xlwings.App(visible=True) as app:\n",
    "    wb = xlwings.Book('EGRESA2.xlsx')\n",
    "    for sheet in range(len(wb.sheets)):\n",
    "        ws = wb.sheets[sheet]\n",
    "        ws.autofit()\n",
    "    wb.save()\n",
    "    wb.close()\n",
    "with xlwings.App(visible=True) as app:\n",
    "    wb = xlwings.Book('STUDENT.xlsx')\n",
    "    for sheet in range(len(wb.sheets)):\n",
    "        ws = wb.sheets[sheet]\n",
    "        ws.autofit()\n",
    "    wb.save()\n",
    "    wb.close()\n",
    "with xlwings.App(visible=True) as app:\n",
    "    wb = xlwings.Book('TEMPORAL.xlsx')\n",
    "    for sheet in range(len(wb.sheets)):\n",
    "        ws = wb.sheets[sheet]\n",
    "        ws.autofit()\n",
    "    wb.save()\n",
    "    wb.close()"
   ]
  }
 ],
 "metadata": {
  "kernelspec": {
   "display_name": "Python 3",
   "language": "python",
   "name": "python3"
  },
  "language_info": {
   "codemirror_mode": {
    "name": "ipython",
    "version": 3
   },
   "file_extension": ".py",
   "mimetype": "text/x-python",
   "name": "python",
   "nbconvert_exporter": "python",
   "pygments_lexer": "ipython3",
   "version": "3.11.4"
  },
  "orig_nbformat": 4
 },
 "nbformat": 4,
 "nbformat_minor": 2
}
