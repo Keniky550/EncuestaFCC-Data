{
 "cells": [
  {
   "cell_type": "code",
   "execution_count": 2,
   "metadata": {},
   "outputs": [],
   "source": [
    "from openpyxl import Workbook\n",
    "import pandas as pd\n",
    "import re\n",
    "import xlwings"
   ]
  },
  {
   "cell_type": "code",
   "execution_count": 3,
   "metadata": {},
   "outputs": [],
   "source": [
    "columna = ['cod_alumno','ape_paterno','ape_materno','nom_alumno','tel_alumno','movil_alumno','coe_alumno','coe_alu_personal','tipo_doc','doc_alumno','año_ingreso','periodo_egreso','escuela']\n",
    "estudiantes = ['cod_alumno','tipo_doc','doc_alumno','nom_alumno','ape_paterno','ape_materno','escuela']\n",
    "temporal = ['coe_alumno','coe_alumno_personal','tel_alumno','movil_alumno','doc_ingreso','año_ingreso','periodo_egreso']\n",
    "likert = ['valor','descripcion']"
   ]
  },
  {
   "cell_type": "code",
   "execution_count": 4,
   "metadata": {},
   "outputs": [],
   "source": [
    "conta = pd.read_excel(\"./EGRESADOS/BASE DE DATOS CONTABILIDAD EGRESADOS.xlsx\",sheet_name=\"Hoja1\"    )\n",
    "gestion = pd.read_excel(\"./EGRESADOS/BASE DE DATOS EGRESADOS GESTIÓN PÚBLICA.xlsx\",sheet_name=\"Hoja1\")\n",
    "audit = pd.read_excel(\"./EGRESADOS/BASE DE DATOS AUDITORIA EGRESADOS.xlsx\",sheet_name=\"Hoja1\")"
   ]
  },
  {
   "cell_type": "code",
   "execution_count": 5,
   "metadata": {},
   "outputs": [],
   "source": [
    "conta['escuela']='contabilidad'\n",
    "gestion['escuela']='gestión pública'\n",
    "audit['escuela']='auditoría'"
   ]
  },
  {
   "cell_type": "code",
   "execution_count": 6,
   "metadata": {},
   "outputs": [],
   "source": [
    "db = pd.concat([conta,gestion,audit]).reset_index(drop=True)"
   ]
  },
  {
   "cell_type": "code",
   "execution_count": 7,
   "metadata": {},
   "outputs": [],
   "source": [
    "for col in db.columns:\n",
    "    if col == \"anio_ingreso\":\n",
    "        db.rename(columns={'anio_ingreso':'año_ingreso'},inplace=True)\n",
    "    if col == 'did_alumno':\n",
    "        db.rename(columns={'did_alumno':'doc_alumno'},inplace=True)\n",
    "    if col == 'tel_alu_movil':\n",
    "        db.rename(columns={'tel_alu_movil':'movil_alumno'},inplace=True)\n",
    "    if col == 'des_doc_identidad':\n",
    "        db.rename(columns={'des_doc_identidad':'tipo_doc'},inplace=True)"
   ]
  },
  {
   "cell_type": "code",
   "execution_count": 8,
   "metadata": {},
   "outputs": [],
   "source": [
    "for col in db.columns:\n",
    "    if col not in columna:\n",
    "        db.drop(col,inplace=True,axis=1)"
   ]
  },
  {
   "cell_type": "code",
   "execution_count": 9,
   "metadata": {},
   "outputs": [],
   "source": [
    "db = db.drop_duplicates().reset_index(drop=True)"
   ]
  },
  {
   "cell_type": "code",
   "execution_count": 10,
   "metadata": {},
   "outputs": [],
   "source": [
    "for col in db.columns:\n",
    "    db[col]=db[col].astype('string',copy=True,errors='raise')"
   ]
  },
  {
   "cell_type": "code",
   "execution_count": 11,
   "metadata": {},
   "outputs": [],
   "source": [
    "db.periodo_egreso.replace('----',None,inplace=True)\n",
    "db.periodo_egreso.replace('00000',None,inplace=True)\n",
    "db.tel_alumno.replace('-',None,inplace=True)\n",
    "db.tel_alumno.replace('0',None,inplace=True)\n",
    "db.año_ingreso.replace('0',None,inplace=True)\n"
   ]
  },
  {
   "cell_type": "code",
   "execution_count": 12,
   "metadata": {},
   "outputs": [],
   "source": [
    "db.fillna('sin_registro',inplace=True)"
   ]
  },
  {
   "cell_type": "code",
   "execution_count": 13,
   "metadata": {},
   "outputs": [],
   "source": [
    "def reemplazo_tel(val):\n",
    "    if val[3]=='-':\n",
    "        val=val[:3]+val[4:]\n",
    "    if re.search('01',val):\n",
    "        val=val[2:]\n",
    "    if len(val)!=7 or val[0]=='0':\n",
    "        val='sin_registro'\n",
    "    if not re.search('^\\d+',val) and val!='sin_registro':\n",
    "        val='sin_registro'\n",
    "    return val\n",
    "def reemplazo_mov(val):\n",
    "    if val[5]=='-':\n",
    "        val=val[:5]+val[6:]\n",
    "    if len(val)!=9 or val[0]!= '9':\n",
    "        val='sin_registro'\n",
    "    return val\n",
    "def reemplazo_año_ingreso(val):\n",
    "    if len(val)!=4:\n",
    "        val='sin_registro'\n",
    "    return val\n",
    "def reemplazo_periodo_egreso(val):\n",
    "    if val!='sin_registro' and val[4]!='-':\n",
    "        val=val[:4]+'-'+val[-1]\n",
    "    return val\n",
    "def correct_doc_alumno(val):\n",
    "    if len(val)!=8 and len(val)!=10:\n",
    "        val=\"sin_registro\"\n",
    "    if len(val)==10 and val[8]=='.':\n",
    "        val=val[:8]\n",
    "    return val"
   ]
  },
  {
   "cell_type": "code",
   "execution_count": 15,
   "metadata": {},
   "outputs": [],
   "source": [
    "db.tel_alumno = db.tel_alumno.apply(reemplazo_tel)\n",
    "db.movil_alumno = db.movil_alumno.apply(reemplazo_mov)\n",
    "db.año_ingreso = db.año_ingreso.apply(reemplazo_año_ingreso)\n",
    "db.periodo_egreso = db.periodo_egreso.apply(reemplazo_periodo_egreso)\n",
    "db.doc_alumno = db.doc_alumno.apply(correct_doc_alumno)"
   ]
  },
  {
   "cell_type": "code",
   "execution_count": 101,
   "metadata": {},
   "outputs": [],
   "source": [
    "db2 = db[db.doc_alumno!=\"sin_registro\"]"
   ]
  },
  {
   "cell_type": "code",
   "execution_count": 105,
   "metadata": {},
   "outputs": [],
   "source": [
    "egresados = db2[columna]\n",
    "egresados.columns = egresados.columns.str.upper()\n",
    "egresados = egresados.style.set_table_styles([{'selector': 'th', 'props': [('text-align', 'center')]}]).set_properties(**{'text-align': 'center'})"
   ]
  },
  {
   "cell_type": "code",
   "execution_count": 106,
   "metadata": {},
   "outputs": [],
   "source": [
    "egresados.to_excel('EGRESADOS.xlsx', sheet_name = 'EGRESADOS', index=False)\n",
    "with xlwings.App(visible=True) as app:\n",
    "    wb = xlwings.Book('EGRESADOS.xlsx')\n",
    "    for sheet in range(len(wb.sheets)):\n",
    "        ws = wb.sheets[sheet]\n",
    "        ws.autofit()\n",
    "    wb.save()\n",
    "    wb.close()"
   ]
  }
 ],
 "metadata": {
  "kernelspec": {
   "display_name": "Python 3",
   "language": "python",
   "name": "python3"
  },
  "language_info": {
   "codemirror_mode": {
    "name": "ipython",
    "version": 3
   },
   "file_extension": ".py",
   "mimetype": "text/x-python",
   "name": "python",
   "nbconvert_exporter": "python",
   "pygments_lexer": "ipython3",
   "version": "3.11.4"
  },
  "orig_nbformat": 4
 },
 "nbformat": 4,
 "nbformat_minor": 2
}
